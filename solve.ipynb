{
 "cells": [
  {
   "cell_type": "markdown",
   "metadata": {},
   "source": [
    "# Задание\n",
    "Задан взвешенный граф 𝐺 и константа 𝐿 = Число вершин G \\ 10 с округлением в\n",
    "меньшую сторону.\n",
    "Задача. Требуется в графе 𝐺 найти такое остовное дерево минимального веса,\n",
    "что число листьев не превосходит константы 𝐿 и степени всех вершин\n",
    "ограничены 3 (бинарное дерево). \n",
    "***"
   ]
  },
  {
   "cell_type": "markdown",
   "metadata": {},
   "source": [
    "# Решение\n",
    "### Алгоритм\n",
    "Модифицированный алгоритм Прима\n",
    "\n",
    "### Вход в виде файла\n",
    "Граф `G` можно задать в файле `.txt` следующим образом:  \n",
    "  \n",
    "`0 1 1`  \n",
    "`0 2 3`  \n",
    "где формат строки: `<вершина 1> <вершина 2> <вес ребра>`\n",
    " \n",
    "В случае нескольких графов в 1 файле, разделитель - `пустая строка`  \n",
    "Конец файла - `пустая строка`."
   ]
  },
  {
   "cell_type": "markdown",
   "metadata": {},
   "source": [
    "# Зависимости"
   ]
  },
  {
   "cell_type": "code",
   "execution_count": 16,
   "metadata": {},
   "outputs": [],
   "source": [
    "import networkx as nx\n",
    "import random\n",
    "import math"
   ]
  },
  {
   "cell_type": "markdown",
   "metadata": {},
   "source": [
    "# Чтение из файла"
   ]
  },
  {
   "cell_type": "code",
   "execution_count": 17,
   "metadata": {},
   "outputs": [],
   "source": [
    "def read_graph_from_file(file_path):\n",
    "    graphs = []\n",
    "    G = nx.Graph()\n",
    "    with open(file_path, 'r') as file:\n",
    "        lines = file.readlines()\n",
    "    for line in lines:\n",
    "        if line == '\\n':\n",
    "            graphs.append(G)\n",
    "            G = nx.Graph()\n",
    "        u, v, w = map(int, line.split())\n",
    "        G.add_edge(u, v, weight=w)\n",
    "    return G"
   ]
  },
  {
   "cell_type": "markdown",
   "metadata": {},
   "source": [
    "# Генерация случайного графа"
   ]
  },
  {
   "cell_type": "markdown",
   "metadata": {},
   "source": [
    "### Генерация"
   ]
  },
  {
   "cell_type": "code",
   "execution_count": 18,
   "metadata": {},
   "outputs": [],
   "source": [
    "def generate_random_graph(num_vertices, num_edges, weight_range):\n",
    "    G = nx.gnm_random_graph(num_vertices, num_edges)\n",
    "    for (u, v) in G.edges():\n",
    "        G[u][v]['weight'] = random.randint(*weight_range)\n",
    "    return G\n"
   ]
  },
  {
   "cell_type": "markdown",
   "metadata": {},
   "source": [
    "# Запись в файл\n",
    "Модификация for_website позволяет просто скопировать данные из файла и построить граф на сайте [Graph Online](https://graphonline.ru/create_graph_by_edge_list)"
   ]
  },
  {
   "cell_type": "code",
   "execution_count": 19,
   "metadata": {},
   "outputs": [],
   "source": [
    "def write_graph_to_file(G, file_path, mode = 'a', for_website = False):\n",
    "    with open(file_path, mode=mode) as file:\n",
    "        for (u, v, data) in G.edges(data=True):\n",
    "            file.write(f\"{u}{'-' if for_website else ' '}{v}{' ' + data['weight'] if not for_website else ''}\\n\")\n",
    "        file.write('\\n')"
   ]
  },
  {
   "cell_type": "markdown",
   "metadata": {},
   "source": [
    "# Код\n",
    "### Описание алгоритма:  \n",
    "В основе лежит алгоритм Прима для нахождения минимального остовного дерева (MST)  \n",
    "### Модификация:  \n",
    "* Количество листьев не должно превышать L \n",
    "* Степени всех вершин были ограничены 3."
   ]
  },
  {
   "cell_type": "code",
   "execution_count": 22,
   "metadata": {},
   "outputs": [],
   "source": [
    "def prim_mst(G):\n",
    "    return nx.minimum_spanning_tree(G, algorithm='prim')\n",
    "\n",
    "def modify_mst(G, L):\n",
    "    for node in list(G.nodes):\n",
    "        while G.degree(node) > 3:\n",
    "            edges = list(G.edges(node, data=True))\n",
    "            edges.sort(key=lambda x: x[2]['weight'], reverse=True)\n",
    "            G.remove_edge(edges[0][0], edges[0][1])\n",
    "\n",
    "    leaves = [node for node in G.nodes if G.degree(node) == 1]\n",
    "    while len(leaves) > L:\n",
    "        leaf = leaves.pop(0)\n",
    "        neighbors = list(G.neighbors(leaf))\n",
    "        if neighbors:\n",
    "            G.remove_edge(leaf, neighbors[0])\n",
    "        leaves = [node for node in G.nodes if G.degree(node) == 1]\n",
    "\n",
    "    return G\n",
    "\n",
    "\n",
    "def find_mst(G, for_website = False):\n",
    "    L = math.floor((len(G.nodes) - 10) / 10)\n",
    "    mst = prim_mst(G)\n",
    "    modified_mst = modify_mst(mst, L)\n",
    "    write_graph_to_file(modified_mst, 'output.txt', 'a', for_website=for_website)\n",
    "\n"
   ]
  },
  {
   "cell_type": "markdown",
   "metadata": {},
   "source": [
    "# Тестирование"
   ]
  },
  {
   "cell_type": "code",
   "execution_count": 25,
   "metadata": {},
   "outputs": [
    {
     "name": "stdout",
     "output_type": "stream",
     "text": [
      "Time: 0.173970 seconds\n",
      "Time: 0.150473 seconds\n",
      "Time: 0.165120 seconds\n",
      "Time: 0.145886 seconds\n",
      "Time: 0.159298 seconds\n",
      "Time: 0.154061 seconds\n",
      "Time: 0.162601 seconds\n",
      "Time: 0.174378 seconds\n",
      "Time: 0.160818 seconds\n",
      "Time: 0.159587 seconds\n"
     ]
    }
   ],
   "source": [
    "import time\n",
    "graphs = []\n",
    "for i in range (10):\n",
    "    G = generate_random_graph(1000, 2000, (1, 100))\n",
    "    graphs.append(G)\n",
    "    \n",
    "for graph in graphs:\n",
    "    start_time = time.time()\n",
    "    mst = find_mst(graph, for_website=True)\n",
    "    end_time = time.time()\n",
    "    print(f\"Time: {end_time - start_time:.6f} seconds\")"
   ]
  },
  {
   "cell_type": "markdown",
   "metadata": {},
   "source": [
    "В выводе показано время работы алгоритма на графах с 1000 вершин и 2000 ребер."
   ]
  }
 ],
 "metadata": {
  "kernelspec": {
   "display_name": ".conda",
   "language": "python",
   "name": "python3"
  },
  "language_info": {
   "codemirror_mode": {
    "name": "ipython",
    "version": 3
   },
   "file_extension": ".py",
   "mimetype": "text/x-python",
   "name": "python",
   "nbconvert_exporter": "python",
   "pygments_lexer": "ipython3",
   "version": "3.11.11"
  }
 },
 "nbformat": 4,
 "nbformat_minor": 2
}
