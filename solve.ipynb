{
 "cells": [
  {
   "cell_type": "markdown",
   "metadata": {},
   "source": [
    "# Задание\n",
    "Задан взвешенный граф 𝐺 и константа 𝐿 = Число вершин G \\ 10 с округлением в\n",
    "меньшую сторону.\n",
    "Задача. Требуется в графе 𝐺 найти такое остовное дерево минимального веса,\n",
    "что число листьев не превосходит константы 𝐿 и степени всех вершин\n",
    "ограничены 3 (бинарное дерево). \n",
    "***"
   ]
  },
  {
   "cell_type": "markdown",
   "metadata": {},
   "source": [
    "# Решение\n",
    "### Алгоритм\n",
    "Модифицированный алгоритм Прима\n",
    "### Вход в виде переменной\n",
    "Граф, заданный списком вершин.<br>\n",
    "Пример:<br>\n",
    "`G = {  \n",
    "    0: [(1, 1), (2, 3)],  \n",
    "    1: [(0, 1), (2, 1), (3, 4)],  \n",
    "    2: [(0, 3), (1, 1), (3, 2)],  \n",
    "    3: [(1, 4), (2, 2)]  \n",
    "}`  \n",
    "### Вход в виде файла\n",
    "Граф `G` можно задать в файле `.txt` следующим образом:  \n",
    "`0`  \n",
    "`1 1`  \n",
    "`2 3`  \n",
    "`1`  \n",
    "`0 1`  \n",
    "`2 1`  \n",
    "`3 4`  \n",
    "`2`  \n",
    "`0 3`  \n",
    "`1 1`  \n",
    "`3 2`  \n",
    "`1 4`  \n",
    "`3`  \n",
    "`1 4`  \n",
    "`2 2`  \n",
    "В случае нескольких графов в 1 файле, разделитель - пустая строка\n"
   ]
  },
  {
   "cell_type": "code",
   "execution_count": null,
   "metadata": {},
   "outputs": [
    {
     "name": "stdout",
     "output_type": "stream",
     "text": [
      "No MST found that satisfies the constraints.\n"
     ]
    },
    {
     "data": {
      "text/plain": [
       "0.4"
      ]
     },
     "execution_count": 17,
     "metadata": {},
     "output_type": "execute_result"
    }
   ],
   "source": [
    "from itertools import combinations\n",
    "import networkx as nx\n",
    "\n",
    "def is_valid_tree(tree, L):\n",
    "    degree_sequence = [d for _, d in tree.degree()]\n",
    "    if max(degree_sequence) > 3:\n",
    "        return False\n",
    "    leaves = degree_sequence.count(1)\n",
    "    if leaves > L:\n",
    "        return False\n",
    "    return True\n",
    "\n",
    "def find_minimum_spanning_tree(graph, L):\n",
    "    G = nx.Graph()\n",
    "    for u, edges in graph.items():\n",
    "        for v, weight in edges:\n",
    "            G.add_edge(u, v, weight=weight)\n",
    "\n",
    "    min_weight = float('inf')\n",
    "    best_tree = None\n",
    "\n",
    "    # Generate all possible spanning trees\n",
    "    for edges in combinations(G.edges(data=True), len(G.nodes) - 1):\n",
    "        tree = nx.Graph()\n",
    "        tree.add_edges_from(edges)\n",
    "        if nx.is_tree(tree) and is_valid_tree(tree, L):\n",
    "            total_weight = sum(data['weight'] for _, _, data in tree.edges(data=True))\n",
    "            if total_weight < min_weight:\n",
    "                min_weight = total_weight\n",
    "                best_tree = tree\n",
    "\n",
    "    return best_tree\n",
    "\n",
    "# Example usage\n",
    "graph = {\n",
    "    0: [(1, 1), (2, 3)],\n",
    "    1: [(0, 1), (2, 1), (3, 4)],\n",
    "    2: [(0, 3), (1, 1), (3, 2)],\n",
    "    3: [(1, 4), (2, 2)]\n",
    "}\n",
    "L = len(graph) / 10\n",
    "\n",
    "mst = find_minimum_spanning_tree(graph, L)\n",
    "if mst:\n",
    "    print(\"Found:\")\n",
    "    for u, v, data in mst.edges(data=True):\n",
    "        print(f\"Edge {u}-{v} with weight {data['weight']}\")\n",
    "else:\n",
    "    print(\"No MST found that satisfies the constraints.\")"
   ]
  }
 ],
 "metadata": {
  "kernelspec": {
   "display_name": ".conda",
   "language": "python",
   "name": "python3"
  },
  "language_info": {
   "codemirror_mode": {
    "name": "ipython",
    "version": 3
   },
   "file_extension": ".py",
   "mimetype": "text/x-python",
   "name": "python",
   "nbconvert_exporter": "python",
   "pygments_lexer": "ipython3",
   "version": "3.11.11"
  }
 },
 "nbformat": 4,
 "nbformat_minor": 2
}
